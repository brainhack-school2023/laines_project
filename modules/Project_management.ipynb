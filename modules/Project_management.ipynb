{
 "cells": [
  {
   "cell_type": "markdown",
   "id": "87ce82d2",
   "metadata": {},
   "source": [
    "# Project management \n",
    "## Exercises:\n",
    "1. Pick a license:\n",
    "   Condition:  Used as widely as possible\n",
    "  **answer:** Creative Commons Attribution 4.0 International Public License\n",
    "  \n",
    "2. Pick a public dataset: \n",
    "   [***Parkinson's Disease Datasets - Neurocon***](https://portal.conp.ca/dataset?id=projects/Neurocon)\n",
    "   Nb subjects: 43\n",
    "   Modalities: MRI, T1W, fMRI\n",
    "   License: CC BY-NC-SA\n",
    "   Primary Publication:  \n",
    "   [***Exploring the reproducibility of functional connectivity alterations in Parkinson’s disease***](https://journals.plos.org/plosone/article?id=10.1371/journal.pone.0188196) \n",
    "   ***F***indable: \n",
    "   ***A***ccessible: \n",
    "   ***I***nteroperable: \n",
    "   ***R***e-Usable: \n",
    "3. Example of a neuroimaging  open science framework: \n",
    "[***An Open MRI Dataset For Multiscale Neuroscience***](https://www.nature.com/articles/s41597-022-01682-y)\n",
    "- [ ]    1. Code available: [***GitHub***](https://www.nature.com/articles/s41597-022-01682-y)\n",
    "- [ ]    2. Documentation for data analysis available: [***micapipe***](https://micapipe.readthedocs.io/en/latest/)\n",
    "- [ ]    3. Data available: [***OSF***](https://osf.io/j532r/) and [***CONP***](https://portal.conp.ca/dataset?id=projects/mica-mics)\n",
    "\n",
    "## Project template for your Brainhack School project\n",
    "***Project: Automatic MS lesions segmentation in the spinal cord with CanProCo dataset ***"
   ]
  },
  {
   "cell_type": "code",
   "execution_count": null,
   "id": "e6ec60c7",
   "metadata": {},
   "outputs": [],
   "source": []
  }
 ],
 "metadata": {
  "kernelspec": {
   "display_name": "Python 3 (ipykernel)",
   "language": "python",
   "name": "python3"
  },
  "language_info": {
   "codemirror_mode": {
    "name": "ipython",
    "version": 3
   },
   "file_extension": ".py",
   "mimetype": "text/x-python",
   "name": "python",
   "nbconvert_exporter": "python",
   "pygments_lexer": "ipython3",
   "version": "3.7.15"
  }
 },
 "nbformat": 4,
 "nbformat_minor": 5
}
