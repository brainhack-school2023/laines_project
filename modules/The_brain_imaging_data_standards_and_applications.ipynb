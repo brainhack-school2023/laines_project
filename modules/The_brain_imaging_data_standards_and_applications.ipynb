{
 "cells": [
  {
   "cell_type": "markdown",
   "id": "711725c8",
   "metadata": {},
   "source": [
    "Download a few subjects (n=3) from the dataset DS000228 on openneuro. Hint: the dataset is available with datalad from this git repository.\n",
    "### datalad install https://github.com/OpenNeuroDatasets/ds000228.git\n"
   ]
  },
  {
   "cell_type": "code",
   "execution_count": 1,
   "id": "45c677d7",
   "metadata": {},
   "outputs": [],
   "source": [
    "import bids\n",
    "from bids import BIDSLayout"
   ]
  },
  {
   "cell_type": "code",
   "execution_count": 2,
   "id": "b89f9ad7",
   "metadata": {},
   "outputs": [
    {
     "data": {
      "text/plain": [
       "[<BIDSImageFile filename='/mnt/d/brainhack/ds000228/sub-pixar002/func/sub-pixar002_task-pixar_bold.nii.gz'>]"
      ]
     },
     "execution_count": 2,
     "metadata": {},
     "output_type": "execute_result"
    }
   ],
   "source": [
    "layout = BIDSLayout('/mnt/d/brainhack/ds000228')\n",
    "bold = layout.get(subject='pixar002', suffix='bold', extension='nii.gz')\n",
    "bold"
   ]
  },
  {
   "cell_type": "code",
   "execution_count": 3,
   "id": "8f4a79cf",
   "metadata": {},
   "outputs": [
    {
     "data": {
      "text/plain": [
       "2"
      ]
     },
     "execution_count": 3,
     "metadata": {},
     "output_type": "execute_result"
    }
   ],
   "source": [
    "md = bold[0].get_metadata()\n",
    "md['RepetitionTime']"
   ]
  },
  {
   "cell_type": "code",
   "execution_count": 4,
   "id": "57e098c7",
   "metadata": {},
   "outputs": [
    {
     "data": {
      "text/plain": [
       "{'datatype': 'func',\n",
       " 'extension': '.nii.gz',\n",
       " 'subject': 'pixar002',\n",
       " 'suffix': 'bold',\n",
       " 'task': 'pixar'}"
      ]
     },
     "execution_count": 4,
     "metadata": {},
     "output_type": "execute_result"
    }
   ],
   "source": [
    "bold[0].get_entities()"
   ]
  },
  {
   "cell_type": "code",
   "execution_count": 6,
   "id": "d69822ca",
   "metadata": {},
   "outputs": [
    {
     "data": {
      "text/plain": [
       "[<BIDSJSONFile filename='/mnt/d/brainhack/ds000228/sub-pixar002/anat/sub-pixar002_T1w.json'>,\n",
       " <BIDSImageFile filename='/mnt/d/brainhack/ds000228/sub-pixar002/anat/sub-pixar002_T1w.nii.gz'>,\n",
       " <BIDSJSONFile filename='/mnt/d/brainhack/ds000228/sub-pixar002/func/sub-pixar002_task-pixar_bold.json'>,\n",
       " <BIDSImageFile filename='/mnt/d/brainhack/ds000228/sub-pixar002/func/sub-pixar002_task-pixar_bold.nii.gz'>]"
      ]
     },
     "execution_count": 6,
     "metadata": {},
     "output_type": "execute_result"
    }
   ],
   "source": [
    "layout.get(subject='pixar002')"
   ]
  },
  {
   "cell_type": "code",
   "execution_count": 13,
   "id": "c33593a0",
   "metadata": {},
   "outputs": [
    {
     "data": {
      "text/plain": [
       "['pixar001',\n",
       " 'pixar002',\n",
       " 'pixar003',\n",
       " 'pixar004',\n",
       " 'pixar005',\n",
       " 'pixar006',\n",
       " 'pixar007',\n",
       " 'pixar008',\n",
       " 'pixar009',\n",
       " 'pixar010',\n",
       " 'pixar011',\n",
       " 'pixar012',\n",
       " 'pixar013',\n",
       " 'pixar014',\n",
       " 'pixar015',\n",
       " 'pixar016',\n",
       " 'pixar017',\n",
       " 'pixar018',\n",
       " 'pixar019',\n",
       " 'pixar020',\n",
       " 'pixar021',\n",
       " 'pixar022',\n",
       " 'pixar023',\n",
       " 'pixar024',\n",
       " 'pixar025',\n",
       " 'pixar026',\n",
       " 'pixar027',\n",
       " 'pixar028',\n",
       " 'pixar029',\n",
       " 'pixar030',\n",
       " 'pixar031',\n",
       " 'pixar032',\n",
       " 'pixar033',\n",
       " 'pixar034',\n",
       " 'pixar035',\n",
       " 'pixar036',\n",
       " 'pixar037',\n",
       " 'pixar038',\n",
       " 'pixar039',\n",
       " 'pixar040',\n",
       " 'pixar041',\n",
       " 'pixar042',\n",
       " 'pixar043',\n",
       " 'pixar044',\n",
       " 'pixar045',\n",
       " 'pixar046',\n",
       " 'pixar047',\n",
       " 'pixar048',\n",
       " 'pixar049',\n",
       " 'pixar050',\n",
       " 'pixar051',\n",
       " 'pixar052',\n",
       " 'pixar053',\n",
       " 'pixar054',\n",
       " 'pixar055',\n",
       " 'pixar056',\n",
       " 'pixar057',\n",
       " 'pixar058',\n",
       " 'pixar059',\n",
       " 'pixar060',\n",
       " 'pixar061',\n",
       " 'pixar062',\n",
       " 'pixar063',\n",
       " 'pixar064',\n",
       " 'pixar065',\n",
       " 'pixar066',\n",
       " 'pixar067',\n",
       " 'pixar068',\n",
       " 'pixar069',\n",
       " 'pixar070',\n",
       " 'pixar071',\n",
       " 'pixar072',\n",
       " 'pixar073',\n",
       " 'pixar074',\n",
       " 'pixar075',\n",
       " 'pixar076',\n",
       " 'pixar077',\n",
       " 'pixar078',\n",
       " 'pixar079',\n",
       " 'pixar080',\n",
       " 'pixar081',\n",
       " 'pixar082',\n",
       " 'pixar083',\n",
       " 'pixar084',\n",
       " 'pixar085',\n",
       " 'pixar086',\n",
       " 'pixar087',\n",
       " 'pixar088',\n",
       " 'pixar089',\n",
       " 'pixar090',\n",
       " 'pixar091',\n",
       " 'pixar092',\n",
       " 'pixar093',\n",
       " 'pixar094',\n",
       " 'pixar095',\n",
       " 'pixar096',\n",
       " 'pixar097',\n",
       " 'pixar098',\n",
       " 'pixar099',\n",
       " 'pixar100',\n",
       " 'pixar101',\n",
       " 'pixar102',\n",
       " 'pixar103',\n",
       " 'pixar104',\n",
       " 'pixar105',\n",
       " 'pixar106',\n",
       " 'pixar107',\n",
       " 'pixar108',\n",
       " 'pixar109',\n",
       " 'pixar110',\n",
       " 'pixar111',\n",
       " 'pixar112',\n",
       " 'pixar113',\n",
       " 'pixar114',\n",
       " 'pixar115',\n",
       " 'pixar116',\n",
       " 'pixar117',\n",
       " 'pixar118',\n",
       " 'pixar119',\n",
       " 'pixar120',\n",
       " 'pixar121',\n",
       " 'pixar122',\n",
       " 'pixar123',\n",
       " 'pixar124',\n",
       " 'pixar125',\n",
       " 'pixar126',\n",
       " 'pixar127',\n",
       " 'pixar128',\n",
       " 'pixar129',\n",
       " 'pixar130',\n",
       " 'pixar131',\n",
       " 'pixar132',\n",
       " 'pixar133',\n",
       " 'pixar134',\n",
       " 'pixar135',\n",
       " 'pixar136',\n",
       " 'pixar137',\n",
       " 'pixar138',\n",
       " 'pixar139',\n",
       " 'pixar140',\n",
       " 'pixar141',\n",
       " 'pixar142',\n",
       " 'pixar143',\n",
       " 'pixar144',\n",
       " 'pixar145',\n",
       " 'pixar146',\n",
       " 'pixar147',\n",
       " 'pixar148',\n",
       " 'pixar149',\n",
       " 'pixar150',\n",
       " 'pixar151',\n",
       " 'pixar152',\n",
       " 'pixar153',\n",
       " 'pixar154',\n",
       " 'pixar155']"
      ]
     },
     "execution_count": 13,
     "metadata": {},
     "output_type": "execute_result"
    }
   ],
   "source": [
    "layout.get_subjects()"
   ]
  },
  {
   "cell_type": "code",
   "execution_count": 14,
   "id": "dedb5ccb",
   "metadata": {},
   "outputs": [
    {
     "data": {
      "text/plain": [
       "['pixar']"
      ]
     },
     "execution_count": 14,
     "metadata": {},
     "output_type": "execute_result"
    }
   ],
   "source": [
    "layout.get_tasks()"
   ]
  },
  {
   "cell_type": "code",
   "execution_count": 15,
   "id": "d4f94414",
   "metadata": {},
   "outputs": [
    {
     "data": {
      "text/plain": [
       "['T1w', 'bold']"
      ]
     },
     "execution_count": 15,
     "metadata": {},
     "output_type": "execute_result"
    }
   ],
   "source": [
    "layout.get_suffixes(subject=bids.layout.Query.ANY)"
   ]
  },
  {
   "cell_type": "markdown",
   "id": "869ca088",
   "metadata": {},
   "source": []
  },
  {
   "cell_type": "code",
   "execution_count": 16,
   "id": "a763cd23",
   "metadata": {},
   "outputs": [
    {
     "data": {
      "text/plain": [
       "['suffix', 'extension', 'task', 'subject', 'datatype']"
      ]
     },
     "execution_count": 16,
     "metadata": {},
     "output_type": "execute_result"
    }
   ],
   "source": [
    "list(layout.get_entities(metadata=False))"
   ]
  },
  {
   "cell_type": "code",
   "execution_count": 130,
   "id": "714975fa",
   "metadata": {},
   "outputs": [
    {
     "ename": "IndexError",
     "evalue": "list index out of range",
     "output_type": "error",
     "traceback": [
      "\u001b[0;31m---------------------------------------------------------------------------\u001b[0m",
      "\u001b[0;31mIndexError\u001b[0m                                Traceback (most recent call last)",
      "\u001b[0;32m/tmp/ipykernel_11413/1832705647.py\u001b[0m in \u001b[0;36m<module>\u001b[0;34m\u001b[0m\n\u001b[1;32m      1\u001b[0m bold_file = layout.get(subject='pixar003', suffix='bold',\n\u001b[0;32m----> 2\u001b[0;31m                         extension=['nii', 'nii.gz'])[0]\n\u001b[0m",
      "\u001b[0;31mIndexError\u001b[0m: list index out of range"
     ]
    }
   ],
   "source": [
    "bold_file = layout.get(subject='pixar003', suffix='bold',\n",
    "                        extension=['nii', 'nii.gz'])[0]"
   ]
  },
  {
   "cell_type": "code",
   "execution_count": 18,
   "id": "c28db716",
   "metadata": {},
   "outputs": [],
   "source": [
    "md = bold_file.get_metadata()"
   ]
  },
  {
   "cell_type": "code",
   "execution_count": 20,
   "id": "a09cd62c",
   "metadata": {},
   "outputs": [
    {
     "data": {
      "text/plain": [
       "dict_keys(['CogAtlasID', 'EchoTime', 'EffectiveEchoSpacing', 'FlipAngle', 'MagneticFieldStrength', 'Manufacturer', 'ManufacturersModelName', 'PhaseEncodingDirection', 'RepetitionTime', 'SliceTiming', 'TaskName', 'dcmmeta_affine', 'dcmmeta_reorient_transform', 'dcmmeta_shape', 'dcmmeta_slice_dim', 'dcmmeta_version', 'global', 'time'])"
      ]
     },
     "execution_count": 20,
     "metadata": {},
     "output_type": "execute_result"
    }
   ],
   "source": [
    "md.keys()"
   ]
  },
  {
   "cell_type": "code",
   "execution_count": 21,
   "id": "f7e4194c",
   "metadata": {},
   "outputs": [
    {
     "data": {
      "text/plain": [
       "0.03"
      ]
     },
     "execution_count": 21,
     "metadata": {},
     "output_type": "execute_result"
    }
   ],
   "source": [
    "md['EchoTime']"
   ]
  },
  {
   "cell_type": "code",
   "execution_count": 63,
   "id": "544ff5c7",
   "metadata": {},
   "outputs": [
    {
     "data": {
      "text/plain": [
       "'Siemens'"
      ]
     },
     "execution_count": 63,
     "metadata": {},
     "output_type": "execute_result"
    }
   ],
   "source": [
    "md['Manufacturer']"
   ]
  },
  {
   "cell_type": "code",
   "execution_count": 25,
   "id": "19c64e46",
   "metadata": {},
   "outputs": [
    {
     "data": {
      "text/plain": [
       "[7, 90, 89, 84, 88]"
      ]
     },
     "execution_count": 25,
     "metadata": {},
     "output_type": "execute_result"
    }
   ],
   "source": [
    " layout.get_FlipAngles()"
   ]
  },
  {
   "cell_type": "code",
   "execution_count": 26,
   "id": "7ab9c2ee",
   "metadata": {},
   "outputs": [
    {
     "data": {
      "text/plain": [
       "['T1w']"
      ]
     },
     "execution_count": 26,
     "metadata": {},
     "output_type": "execute_result"
    }
   ],
   "source": [
    "layout.get_suffix(FlipAngle=7)"
   ]
  },
  {
   "cell_type": "code",
   "execution_count": 27,
   "id": "8215cfda",
   "metadata": {},
   "outputs": [
    {
     "data": {
      "text/plain": [
       "['bold']"
      ]
     },
     "execution_count": 27,
     "metadata": {},
     "output_type": "execute_result"
    }
   ],
   "source": [
    "layout.get_suffix(FlipAngle=88)"
   ]
  },
  {
   "cell_type": "code",
   "execution_count": 31,
   "id": "d3f76f01",
   "metadata": {},
   "outputs": [
    {
     "data": {
      "text/plain": [
       "{90: 152, 89: 1, 84: 1, 88: 1}"
      ]
     },
     "execution_count": 31,
     "metadata": {},
     "output_type": "execute_result"
    }
   ],
   "source": [
    "{fa: len(layout.get(FlipAngle=fa))\n",
    "     for fa in layout.get_FlipAngle(suffix='bold')}"
   ]
  },
  {
   "cell_type": "code",
   "execution_count": 32,
   "id": "883e7f80",
   "metadata": {},
   "outputs": [
    {
     "data": {
      "text/plain": [
       "['pixar028']"
      ]
     },
     "execution_count": 32,
     "metadata": {},
     "output_type": "execute_result"
    }
   ],
   "source": [
    "layout.get_subjects(FlipAngle=88)"
   ]
  },
  {
   "cell_type": "code",
   "execution_count": 50,
   "id": "e02153a8",
   "metadata": {},
   "outputs": [],
   "source": []
  },
  {
   "cell_type": "code",
   "execution_count": 52,
   "id": "4d701df8",
   "metadata": {},
   "outputs": [
    {
     "data": {
      "text/plain": [
       "<BIDSDataFile filename='/mnt/d/brainhack/ds000224/participants.tsv'>"
      ]
     },
     "execution_count": 52,
     "metadata": {},
     "output_type": "execute_result"
    }
   ],
   "source": [
    "participants"
   ]
  },
  {
   "cell_type": "code",
   "execution_count": 53,
   "id": "83d74a3d",
   "metadata": {},
   "outputs": [
    {
     "data": {
      "text/html": [
       "<div>\n",
       "<style scoped>\n",
       "    .dataframe tbody tr th:only-of-type {\n",
       "        vertical-align: middle;\n",
       "    }\n",
       "\n",
       "    .dataframe tbody tr th {\n",
       "        vertical-align: top;\n",
       "    }\n",
       "\n",
       "    .dataframe thead th {\n",
       "        text-align: right;\n",
       "    }\n",
       "</style>\n",
       "<table border=\"1\" class=\"dataframe\">\n",
       "  <thead>\n",
       "    <tr style=\"text-align: right;\">\n",
       "      <th></th>\n",
       "      <th>participant_id</th>\n",
       "      <th>gender</th>\n",
       "      <th>age</th>\n",
       "      <th>education_degree</th>\n",
       "      <th>education_years</th>\n",
       "    </tr>\n",
       "  </thead>\n",
       "  <tbody>\n",
       "    <tr>\n",
       "      <th>0</th>\n",
       "      <td>sub-MSC01</td>\n",
       "      <td>M</td>\n",
       "      <td>34</td>\n",
       "      <td>Doctorate</td>\n",
       "      <td>22.0</td>\n",
       "    </tr>\n",
       "    <tr>\n",
       "      <th>1</th>\n",
       "      <td>sub-MSC02</td>\n",
       "      <td>M</td>\n",
       "      <td>34</td>\n",
       "      <td>Doctorate</td>\n",
       "      <td>28.0</td>\n",
       "    </tr>\n",
       "    <tr>\n",
       "      <th>2</th>\n",
       "      <td>sub-MSC03</td>\n",
       "      <td>F</td>\n",
       "      <td>29</td>\n",
       "      <td>Masters</td>\n",
       "      <td>18.0</td>\n",
       "    </tr>\n",
       "    <tr>\n",
       "      <th>3</th>\n",
       "      <td>sub-MSC04</td>\n",
       "      <td>F</td>\n",
       "      <td>28</td>\n",
       "      <td>Bachelors</td>\n",
       "      <td>22.0</td>\n",
       "    </tr>\n",
       "    <tr>\n",
       "      <th>4</th>\n",
       "      <td>sub-MSC05</td>\n",
       "      <td>M</td>\n",
       "      <td>27</td>\n",
       "      <td>Bachelors</td>\n",
       "      <td>20.0</td>\n",
       "    </tr>\n",
       "    <tr>\n",
       "      <th>5</th>\n",
       "      <td>sub-MSC06</td>\n",
       "      <td>F</td>\n",
       "      <td>24</td>\n",
       "      <td>Bachelors</td>\n",
       "      <td>17.5</td>\n",
       "    </tr>\n",
       "    <tr>\n",
       "      <th>6</th>\n",
       "      <td>sub-MSC07</td>\n",
       "      <td>F</td>\n",
       "      <td>31</td>\n",
       "      <td>Masters</td>\n",
       "      <td>20.0</td>\n",
       "    </tr>\n",
       "    <tr>\n",
       "      <th>7</th>\n",
       "      <td>sub-MSC08</td>\n",
       "      <td>F</td>\n",
       "      <td>27</td>\n",
       "      <td>Professional</td>\n",
       "      <td>21.0</td>\n",
       "    </tr>\n",
       "    <tr>\n",
       "      <th>8</th>\n",
       "      <td>sub-MSC09</td>\n",
       "      <td>M</td>\n",
       "      <td>26</td>\n",
       "      <td>Professional</td>\n",
       "      <td>19.0</td>\n",
       "    </tr>\n",
       "    <tr>\n",
       "      <th>9</th>\n",
       "      <td>sub-MSC10</td>\n",
       "      <td>M</td>\n",
       "      <td>31</td>\n",
       "      <td>Professional</td>\n",
       "      <td>19.0</td>\n",
       "    </tr>\n",
       "  </tbody>\n",
       "</table>\n",
       "</div>"
      ],
      "text/plain": [
       "  participant_id gender  age education_degree  education_years\n",
       "0      sub-MSC01      M   34        Doctorate             22.0\n",
       "1      sub-MSC02      M   34        Doctorate             28.0\n",
       "2      sub-MSC03      F   29          Masters             18.0\n",
       "3      sub-MSC04      F   28        Bachelors             22.0\n",
       "4      sub-MSC05      M   27        Bachelors             20.0\n",
       "5      sub-MSC06      F   24        Bachelors             17.5\n",
       "6      sub-MSC07      F   31          Masters             20.0\n",
       "7      sub-MSC08      F   27     Professional             21.0\n",
       "8      sub-MSC09      M   26     Professional             19.0\n",
       "9      sub-MSC10      M   31     Professional             19.0"
      ]
     },
     "execution_count": 53,
     "metadata": {},
     "output_type": "execute_result"
    }
   ],
   "source": []
  },
  {
   "cell_type": "code",
   "execution_count": 54,
   "id": "974119d0",
   "metadata": {},
   "outputs": [
    {
     "data": {
      "text/plain": [
       "[<BIDSVariableCollection['age', 'education_degree', 'education_years', 'gender']>]"
      ]
     },
     "execution_count": 54,
     "metadata": {},
     "output_type": "execute_result"
    }
   ],
   "source": [
    "collections = layout.get_collections(level='dataset')\n",
    "collections"
   ]
  },
  {
   "cell_type": "code",
   "execution_count": 55,
   "id": "76d610b6",
   "metadata": {},
   "outputs": [
    {
     "data": {
      "text/html": [
       "<div>\n",
       "<style scoped>\n",
       "    .dataframe tbody tr th:only-of-type {\n",
       "        vertical-align: middle;\n",
       "    }\n",
       "\n",
       "    .dataframe tbody tr th {\n",
       "        vertical-align: top;\n",
       "    }\n",
       "\n",
       "    .dataframe thead th {\n",
       "        text-align: right;\n",
       "    }\n",
       "</style>\n",
       "<table border=\"1\" class=\"dataframe\">\n",
       "  <thead>\n",
       "    <tr style=\"text-align: right;\">\n",
       "      <th></th>\n",
       "      <th>subject</th>\n",
       "      <th>age</th>\n",
       "      <th>education_degree</th>\n",
       "      <th>education_years</th>\n",
       "      <th>gender</th>\n",
       "      <th>suffix</th>\n",
       "    </tr>\n",
       "  </thead>\n",
       "  <tbody>\n",
       "    <tr>\n",
       "      <th>0</th>\n",
       "      <td>MSC01</td>\n",
       "      <td>34</td>\n",
       "      <td>Doctorate</td>\n",
       "      <td>22.0</td>\n",
       "      <td>M</td>\n",
       "      <td>participants</td>\n",
       "    </tr>\n",
       "    <tr>\n",
       "      <th>1</th>\n",
       "      <td>MSC02</td>\n",
       "      <td>34</td>\n",
       "      <td>Doctorate</td>\n",
       "      <td>28.0</td>\n",
       "      <td>M</td>\n",
       "      <td>participants</td>\n",
       "    </tr>\n",
       "    <tr>\n",
       "      <th>2</th>\n",
       "      <td>MSC03</td>\n",
       "      <td>29</td>\n",
       "      <td>Masters</td>\n",
       "      <td>18.0</td>\n",
       "      <td>F</td>\n",
       "      <td>participants</td>\n",
       "    </tr>\n",
       "    <tr>\n",
       "      <th>3</th>\n",
       "      <td>MSC04</td>\n",
       "      <td>28</td>\n",
       "      <td>Bachelors</td>\n",
       "      <td>22.0</td>\n",
       "      <td>F</td>\n",
       "      <td>participants</td>\n",
       "    </tr>\n",
       "    <tr>\n",
       "      <th>4</th>\n",
       "      <td>MSC05</td>\n",
       "      <td>27</td>\n",
       "      <td>Bachelors</td>\n",
       "      <td>20.0</td>\n",
       "      <td>M</td>\n",
       "      <td>participants</td>\n",
       "    </tr>\n",
       "    <tr>\n",
       "      <th>5</th>\n",
       "      <td>MSC06</td>\n",
       "      <td>24</td>\n",
       "      <td>Bachelors</td>\n",
       "      <td>17.5</td>\n",
       "      <td>F</td>\n",
       "      <td>participants</td>\n",
       "    </tr>\n",
       "    <tr>\n",
       "      <th>6</th>\n",
       "      <td>MSC07</td>\n",
       "      <td>31</td>\n",
       "      <td>Masters</td>\n",
       "      <td>20.0</td>\n",
       "      <td>F</td>\n",
       "      <td>participants</td>\n",
       "    </tr>\n",
       "    <tr>\n",
       "      <th>7</th>\n",
       "      <td>MSC08</td>\n",
       "      <td>27</td>\n",
       "      <td>Professional</td>\n",
       "      <td>21.0</td>\n",
       "      <td>F</td>\n",
       "      <td>participants</td>\n",
       "    </tr>\n",
       "    <tr>\n",
       "      <th>8</th>\n",
       "      <td>MSC09</td>\n",
       "      <td>26</td>\n",
       "      <td>Professional</td>\n",
       "      <td>19.0</td>\n",
       "      <td>M</td>\n",
       "      <td>participants</td>\n",
       "    </tr>\n",
       "    <tr>\n",
       "      <th>9</th>\n",
       "      <td>MSC10</td>\n",
       "      <td>31</td>\n",
       "      <td>Professional</td>\n",
       "      <td>19.0</td>\n",
       "      <td>M</td>\n",
       "      <td>participants</td>\n",
       "    </tr>\n",
       "  </tbody>\n",
       "</table>\n",
       "</div>"
      ],
      "text/plain": [
       "  subject age education_degree education_years gender        suffix\n",
       "0   MSC01  34        Doctorate            22.0      M  participants\n",
       "1   MSC02  34        Doctorate            28.0      M  participants\n",
       "2   MSC03  29          Masters            18.0      F  participants\n",
       "3   MSC04  28        Bachelors            22.0      F  participants\n",
       "4   MSC05  27        Bachelors            20.0      M  participants\n",
       "5   MSC06  24        Bachelors            17.5      F  participants\n",
       "6   MSC07  31          Masters            20.0      F  participants\n",
       "7   MSC08  27     Professional            21.0      F  participants\n",
       "8   MSC09  26     Professional            19.0      M  participants\n",
       "9   MSC10  31     Professional            19.0      M  participants"
      ]
     },
     "execution_count": 55,
     "metadata": {},
     "output_type": "execute_result"
    }
   ],
   "source": [
    "collections[0].to_df()"
   ]
  },
  {
   "cell_type": "code",
   "execution_count": 56,
   "id": "e7e50cfd",
   "metadata": {},
   "outputs": [
    {
     "data": {
      "text/html": [
       "<div>\n",
       "<style scoped>\n",
       "    .dataframe tbody tr th:only-of-type {\n",
       "        vertical-align: middle;\n",
       "    }\n",
       "\n",
       "    .dataframe tbody tr th {\n",
       "        vertical-align: top;\n",
       "    }\n",
       "\n",
       "    .dataframe thead th {\n",
       "        text-align: right;\n",
       "    }\n",
       "</style>\n",
       "<table border=\"1\" class=\"dataframe\">\n",
       "  <thead>\n",
       "    <tr style=\"text-align: right;\">\n",
       "      <th></th>\n",
       "      <th>session</th>\n",
       "      <th>subject</th>\n",
       "      <th>acq_time</th>\n",
       "      <th>suffix</th>\n",
       "    </tr>\n",
       "  </thead>\n",
       "  <tbody>\n",
       "    <tr>\n",
       "      <th>0</th>\n",
       "      <td>func01</td>\n",
       "      <td>MSC01</td>\n",
       "      <td>1894-08-25T01:07:51</td>\n",
       "      <td>sessions</td>\n",
       "    </tr>\n",
       "    <tr>\n",
       "      <th>1</th>\n",
       "      <td>func02</td>\n",
       "      <td>MSC01</td>\n",
       "      <td>1894-08-26T00:09:21</td>\n",
       "      <td>sessions</td>\n",
       "    </tr>\n",
       "    <tr>\n",
       "      <th>2</th>\n",
       "      <td>func03</td>\n",
       "      <td>MSC01</td>\n",
       "      <td>1894-08-27T00:17:24</td>\n",
       "      <td>sessions</td>\n",
       "    </tr>\n",
       "    <tr>\n",
       "      <th>3</th>\n",
       "      <td>func04</td>\n",
       "      <td>MSC01</td>\n",
       "      <td>1894-08-28T00:14:11</td>\n",
       "      <td>sessions</td>\n",
       "    </tr>\n",
       "    <tr>\n",
       "      <th>4</th>\n",
       "      <td>func05</td>\n",
       "      <td>MSC01</td>\n",
       "      <td>1894-08-29T00:08:33</td>\n",
       "      <td>sessions</td>\n",
       "    </tr>\n",
       "    <tr>\n",
       "      <th>5</th>\n",
       "      <td>func06</td>\n",
       "      <td>MSC01</td>\n",
       "      <td>1894-08-30T00:12:32</td>\n",
       "      <td>sessions</td>\n",
       "    </tr>\n",
       "    <tr>\n",
       "      <th>6</th>\n",
       "      <td>func07</td>\n",
       "      <td>MSC01</td>\n",
       "      <td>1894-08-31T00:08:55</td>\n",
       "      <td>sessions</td>\n",
       "    </tr>\n",
       "    <tr>\n",
       "      <th>7</th>\n",
       "      <td>func08</td>\n",
       "      <td>MSC01</td>\n",
       "      <td>1894-09-08T00:18:53</td>\n",
       "      <td>sessions</td>\n",
       "    </tr>\n",
       "    <tr>\n",
       "      <th>8</th>\n",
       "      <td>func09</td>\n",
       "      <td>MSC01</td>\n",
       "      <td>1894-09-09T00:15:21</td>\n",
       "      <td>sessions</td>\n",
       "    </tr>\n",
       "    <tr>\n",
       "      <th>9</th>\n",
       "      <td>func10</td>\n",
       "      <td>MSC01</td>\n",
       "      <td>1894-09-10T00:18:59</td>\n",
       "      <td>sessions</td>\n",
       "    </tr>\n",
       "    <tr>\n",
       "      <th>10</th>\n",
       "      <td>struct01</td>\n",
       "      <td>MSC01</td>\n",
       "      <td>1894-05-23T00:33:21</td>\n",
       "      <td>sessions</td>\n",
       "    </tr>\n",
       "    <tr>\n",
       "      <th>11</th>\n",
       "      <td>struct02</td>\n",
       "      <td>MSC01</td>\n",
       "      <td>1894-06-29T00:12:09</td>\n",
       "      <td>sessions</td>\n",
       "    </tr>\n",
       "  </tbody>\n",
       "</table>\n",
       "</div>"
      ],
      "text/plain": [
       "     session subject             acq_time    suffix\n",
       "0     func01   MSC01  1894-08-25T01:07:51  sessions\n",
       "1     func02   MSC01  1894-08-26T00:09:21  sessions\n",
       "2     func03   MSC01  1894-08-27T00:17:24  sessions\n",
       "3     func04   MSC01  1894-08-28T00:14:11  sessions\n",
       "4     func05   MSC01  1894-08-29T00:08:33  sessions\n",
       "5     func06   MSC01  1894-08-30T00:12:32  sessions\n",
       "6     func07   MSC01  1894-08-31T00:08:55  sessions\n",
       "7     func08   MSC01  1894-09-08T00:18:53  sessions\n",
       "8     func09   MSC01  1894-09-09T00:15:21  sessions\n",
       "9     func10   MSC01  1894-09-10T00:18:59  sessions\n",
       "10  struct01   MSC01  1894-05-23T00:33:21  sessions\n",
       "11  struct02   MSC01  1894-06-29T00:12:09  sessions"
      ]
     },
     "execution_count": 56,
     "metadata": {},
     "output_type": "execute_result"
    }
   ],
   "source": [
    "layout.get_collections(level='subject', subject='MSC01')[0].to_df()"
   ]
  },
  {
   "cell_type": "code",
   "execution_count": 115,
   "id": "85c5a4fe",
   "metadata": {},
   "outputs": [
    {
     "data": {
      "text/html": [
       "<div>\n",
       "<style scoped>\n",
       "    .dataframe tbody tr th:only-of-type {\n",
       "        vertical-align: middle;\n",
       "    }\n",
       "\n",
       "    .dataframe tbody tr th {\n",
       "        vertical-align: top;\n",
       "    }\n",
       "\n",
       "    .dataframe thead th {\n",
       "        text-align: right;\n",
       "    }\n",
       "</style>\n",
       "<table border=\"1\" class=\"dataframe\">\n",
       "  <thead>\n",
       "    <tr style=\"text-align: right;\">\n",
       "      <th></th>\n",
       "      <th>subject</th>\n",
       "      <th>session</th>\n",
       "      <th>run</th>\n",
       "      <th>BodyPartExamined</th>\n",
       "      <th>CogAtlasID</th>\n",
       "      <th>ConversionSoftware</th>\n",
       "      <th>ConversionSoftwareVersion</th>\n",
       "      <th>EchoTime</th>\n",
       "      <th>EffectiveEchoSpacing</th>\n",
       "      <th>FlipAngle</th>\n",
       "      <th>...</th>\n",
       "      <th>SequenceName</th>\n",
       "      <th>SequenceVariant</th>\n",
       "      <th>SeriesDescription</th>\n",
       "      <th>SliceTiming</th>\n",
       "      <th>SoftwareVersion</th>\n",
       "      <th>TaskName</th>\n",
       "      <th>acq_time</th>\n",
       "      <th>suffix</th>\n",
       "      <th>task</th>\n",
       "      <th>datatype</th>\n",
       "    </tr>\n",
       "  </thead>\n",
       "  <tbody>\n",
       "    <tr>\n",
       "      <th>0</th>\n",
       "      <td>MSC01</td>\n",
       "      <td>func01</td>\n",
       "      <td>1.0</td>\n",
       "      <td>HEAD</td>\n",
       "      <td>http://www.cognitiveatlas.org/task/id/trm_4f24...</td>\n",
       "      <td>dcm2niix</td>\n",
       "      <td>v1.0.20170411 GCC4.4.7</td>\n",
       "      <td>0.027</td>\n",
       "      <td>0.00059</td>\n",
       "      <td>90</td>\n",
       "      <td>...</td>\n",
       "      <td>_epfid2d1_64</td>\n",
       "      <td>SK</td>\n",
       "      <td>MixedDesign_192Frames_36Slices_TR2.2</td>\n",
       "      <td>[1.105, 0, 1.1675, 0.0625, 1.2275, 0.1225, 1.2...</td>\n",
       "      <td>syngo MR B17</td>\n",
       "      <td>glasslexical</td>\n",
       "      <td>1894-08-25T02:44:47</td>\n",
       "      <td>bold</td>\n",
       "      <td>glasslexical</td>\n",
       "      <td>func</td>\n",
       "    </tr>\n",
       "    <tr>\n",
       "      <th>1</th>\n",
       "      <td>MSC01</td>\n",
       "      <td>func01</td>\n",
       "      <td>2.0</td>\n",
       "      <td>HEAD</td>\n",
       "      <td>http://www.cognitiveatlas.org/task/id/trm_4f24...</td>\n",
       "      <td>dcm2niix</td>\n",
       "      <td>v1.0.20170411 GCC4.4.7</td>\n",
       "      <td>0.027</td>\n",
       "      <td>0.00059</td>\n",
       "      <td>90</td>\n",
       "      <td>...</td>\n",
       "      <td>_epfid2d1_64</td>\n",
       "      <td>SK</td>\n",
       "      <td>MixedDesign_192Frames_36Slices_TR2.2</td>\n",
       "      <td>[1.105, 0, 1.1675, 0.0625, 1.2275, 0.1225, 1.2...</td>\n",
       "      <td>syngo MR B17</td>\n",
       "      <td>glasslexical</td>\n",
       "      <td>1894-08-25T02:53:17</td>\n",
       "      <td>bold</td>\n",
       "      <td>glasslexical</td>\n",
       "      <td>func</td>\n",
       "    </tr>\n",
       "  </tbody>\n",
       "</table>\n",
       "<p>2 rows × 30 columns</p>\n",
       "</div>"
      ],
      "text/plain": [
       "  subject session  run BodyPartExamined  \\\n",
       "0   MSC01  func01  1.0             HEAD   \n",
       "1   MSC01  func01  2.0             HEAD   \n",
       "\n",
       "                                          CogAtlasID ConversionSoftware  \\\n",
       "0  http://www.cognitiveatlas.org/task/id/trm_4f24...           dcm2niix   \n",
       "1  http://www.cognitiveatlas.org/task/id/trm_4f24...           dcm2niix   \n",
       "\n",
       "  ConversionSoftwareVersion EchoTime EffectiveEchoSpacing FlipAngle  ...  \\\n",
       "0    v1.0.20170411 GCC4.4.7    0.027              0.00059        90  ...   \n",
       "1    v1.0.20170411 GCC4.4.7    0.027              0.00059        90  ...   \n",
       "\n",
       "   SequenceName SequenceVariant                     SeriesDescription  \\\n",
       "0  _epfid2d1_64              SK  MixedDesign_192Frames_36Slices_TR2.2   \n",
       "1  _epfid2d1_64              SK  MixedDesign_192Frames_36Slices_TR2.2   \n",
       "\n",
       "                                         SliceTiming SoftwareVersion  \\\n",
       "0  [1.105, 0, 1.1675, 0.0625, 1.2275, 0.1225, 1.2...    syngo MR B17   \n",
       "1  [1.105, 0, 1.1675, 0.0625, 1.2275, 0.1225, 1.2...    syngo MR B17   \n",
       "\n",
       "       TaskName             acq_time suffix          task datatype  \n",
       "0  glasslexical  1894-08-25T02:44:47   bold  glasslexical     func  \n",
       "1  glasslexical  1894-08-25T02:53:17   bold  glasslexical     func  \n",
       "\n",
       "[2 rows x 30 columns]"
      ]
     },
     "execution_count": 115,
     "metadata": {},
     "output_type": "execute_result"
    }
   ],
   "source": [
    "#layout = BIDSLayout('/mnt/d/brainhack/ds000224')\n",
    "layout.get_collections(level='session', subject='MSC01', session='func01')[0].to_df()"
   ]
  },
  {
   "cell_type": "code",
   "execution_count": 125,
   "id": "5bc2ec4f",
   "metadata": {},
   "outputs": [
    {
     "data": {
      "text/html": [
       "<div>\n",
       "<style scoped>\n",
       "    .dataframe tbody tr th:only-of-type {\n",
       "        vertical-align: middle;\n",
       "    }\n",
       "\n",
       "    .dataframe tbody tr th {\n",
       "        vertical-align: top;\n",
       "    }\n",
       "\n",
       "    .dataframe thead th {\n",
       "        text-align: right;\n",
       "    }\n",
       "</style>\n",
       "<table border=\"1\" class=\"dataframe\">\n",
       "  <thead>\n",
       "    <tr style=\"text-align: right;\">\n",
       "      <th></th>\n",
       "      <th>session</th>\n",
       "      <th>subject</th>\n",
       "      <th>acq_time</th>\n",
       "      <th>suffix</th>\n",
       "    </tr>\n",
       "  </thead>\n",
       "  <tbody>\n",
       "    <tr>\n",
       "      <th>0</th>\n",
       "      <td>func01</td>\n",
       "      <td>MSC01</td>\n",
       "      <td>1894-08-25T01:07:51</td>\n",
       "      <td>sessions</td>\n",
       "    </tr>\n",
       "  </tbody>\n",
       "</table>\n",
       "</div>"
      ],
      "text/plain": [
       "  session subject             acq_time    suffix\n",
       "0  func01   MSC01  1894-08-25T01:07:51  sessions"
      ]
     },
     "execution_count": 125,
     "metadata": {},
     "output_type": "execute_result"
    }
   ],
   "source": [
    "layout.get_collections(level='subject', subject='MSC01', session='func01',\n",
    "                           task='motor', run=1)[0].to_df()"
   ]
  },
  {
   "cell_type": "code",
   "execution_count": 112,
   "id": "f6d26735",
   "metadata": {},
   "outputs": [
    {
     "data": {
      "text/plain": [
       "'/mnt/d/brainhack/ds000224/task-rest_bold.json'"
      ]
     },
     "execution_count": 112,
     "metadata": {},
     "output_type": "execute_result"
    }
   ],
   "source": [
    "import json\n",
    "entities = {\"task\": \"rest\", \"suffix\": \"bold\", \"extension\": \"json\"}\n",
    "layout.build_path(entities)\n"
   ]
  },
  {
   "cell_type": "code",
   "execution_count": 120,
   "id": "3881e805",
   "metadata": {},
   "outputs": [
    {
     "name": "stdout",
     "output_type": "stream",
     "text": [
      "BIDS Layout: .../mnt/d/brainhack/ds000224 | Subjects: 10 | Sessions: 123 | Runs: 24\n"
     ]
    }
   ],
   "source": [
    "print(layout)"
   ]
  },
  {
   "cell_type": "code",
   "execution_count": null,
   "id": "f4522465",
   "metadata": {},
   "outputs": [],
   "source": []
  },
  {
   "cell_type": "markdown",
   "id": "ea4801bf",
   "metadata": {},
   "source": [
    "# Bids validator pybids"
   ]
  },
  {
   "cell_type": "markdown",
   "id": "13528393",
   "metadata": {},
   "source": [
    "Install pybids. Use pybids to get a list of all BOLD nii.gz files for subject pixar003. In which folder did you find them? is it logical? You may want to have a look at the BIDS documentation to familiarize yourself with the BIDS standard."
   ]
  },
  {
   "cell_type": "code",
   "execution_count": 6,
   "id": "c1025ebf",
   "metadata": {},
   "outputs": [],
   "source": [
    "from bids_validator import BIDSValidator"
   ]
  },
  {
   "cell_type": "code",
   "execution_count": 7,
   "id": "e0f4b08b",
   "metadata": {},
   "outputs": [
    {
     "data": {
      "text/plain": [
       "False"
      ]
     },
     "execution_count": 7,
     "metadata": {},
     "output_type": "execute_result"
    }
   ],
   "source": [
    "BIDSValidator().is_bids('/mnt/d/brainhack/ds000228')"
   ]
  },
  {
   "cell_type": "code",
   "execution_count": 139,
   "id": "adf49dc0",
   "metadata": {},
   "outputs": [
    {
     "data": {
      "text/plain": [
       "[<BIDSImageFile filename='/mnt/d/brainhack/ds000228/sub-pixar003/func/sub-pixar003_task-pixar_bold.nii.gz'>]"
      ]
     },
     "execution_count": 139,
     "metadata": {},
     "output_type": "execute_result"
    }
   ],
   "source": [
    "#Question 3\n",
    "bold = layout.get(subject='pixar003', suffix='bold', extension='nii.gz')\n",
    "bold"
   ]
  },
  {
   "cell_type": "markdown",
   "id": "b2d135b6",
   "metadata": {},
   "source": [
    "Using pybids, get a list of the flip angles in DS000228.\n"
   ]
  },
  {
   "cell_type": "code",
   "execution_count": 140,
   "id": "714d9645",
   "metadata": {},
   "outputs": [
    {
     "data": {
      "text/plain": [
       "[90, 89, 84, 88]"
      ]
     },
     "execution_count": 140,
     "metadata": {},
     "output_type": "execute_result"
    }
   ],
   "source": [
    "#Question 4\n",
    "layout.get_FlipAngle(suffix='bold')"
   ]
  },
  {
   "cell_type": "markdown",
   "id": "d7d5f837",
   "metadata": {},
   "source": [
    "Clone a Midnight Brain Scan dataset from this git repository. Use pybids to load the participant.tsv file as a pandas dataframe in python."
   ]
  },
  {
   "cell_type": "code",
   "execution_count": 141,
   "id": "65a482ec",
   "metadata": {},
   "outputs": [
    {
     "data": {
      "text/html": [
       "<div>\n",
       "<style scoped>\n",
       "    .dataframe tbody tr th:only-of-type {\n",
       "        vertical-align: middle;\n",
       "    }\n",
       "\n",
       "    .dataframe tbody tr th {\n",
       "        vertical-align: top;\n",
       "    }\n",
       "\n",
       "    .dataframe thead th {\n",
       "        text-align: right;\n",
       "    }\n",
       "</style>\n",
       "<table border=\"1\" class=\"dataframe\">\n",
       "  <thead>\n",
       "    <tr style=\"text-align: right;\">\n",
       "      <th></th>\n",
       "      <th>participant_id</th>\n",
       "      <th>gender</th>\n",
       "      <th>age</th>\n",
       "      <th>education_degree</th>\n",
       "      <th>education_years</th>\n",
       "    </tr>\n",
       "  </thead>\n",
       "  <tbody>\n",
       "    <tr>\n",
       "      <th>0</th>\n",
       "      <td>sub-MSC01</td>\n",
       "      <td>M</td>\n",
       "      <td>34</td>\n",
       "      <td>Doctorate</td>\n",
       "      <td>22.0</td>\n",
       "    </tr>\n",
       "    <tr>\n",
       "      <th>1</th>\n",
       "      <td>sub-MSC02</td>\n",
       "      <td>M</td>\n",
       "      <td>34</td>\n",
       "      <td>Doctorate</td>\n",
       "      <td>28.0</td>\n",
       "    </tr>\n",
       "    <tr>\n",
       "      <th>2</th>\n",
       "      <td>sub-MSC03</td>\n",
       "      <td>F</td>\n",
       "      <td>29</td>\n",
       "      <td>Masters</td>\n",
       "      <td>18.0</td>\n",
       "    </tr>\n",
       "    <tr>\n",
       "      <th>3</th>\n",
       "      <td>sub-MSC04</td>\n",
       "      <td>F</td>\n",
       "      <td>28</td>\n",
       "      <td>Bachelors</td>\n",
       "      <td>22.0</td>\n",
       "    </tr>\n",
       "    <tr>\n",
       "      <th>4</th>\n",
       "      <td>sub-MSC05</td>\n",
       "      <td>M</td>\n",
       "      <td>27</td>\n",
       "      <td>Bachelors</td>\n",
       "      <td>20.0</td>\n",
       "    </tr>\n",
       "    <tr>\n",
       "      <th>5</th>\n",
       "      <td>sub-MSC06</td>\n",
       "      <td>F</td>\n",
       "      <td>24</td>\n",
       "      <td>Bachelors</td>\n",
       "      <td>17.5</td>\n",
       "    </tr>\n",
       "    <tr>\n",
       "      <th>6</th>\n",
       "      <td>sub-MSC07</td>\n",
       "      <td>F</td>\n",
       "      <td>31</td>\n",
       "      <td>Masters</td>\n",
       "      <td>20.0</td>\n",
       "    </tr>\n",
       "    <tr>\n",
       "      <th>7</th>\n",
       "      <td>sub-MSC08</td>\n",
       "      <td>F</td>\n",
       "      <td>27</td>\n",
       "      <td>Professional</td>\n",
       "      <td>21.0</td>\n",
       "    </tr>\n",
       "    <tr>\n",
       "      <th>8</th>\n",
       "      <td>sub-MSC09</td>\n",
       "      <td>M</td>\n",
       "      <td>26</td>\n",
       "      <td>Professional</td>\n",
       "      <td>19.0</td>\n",
       "    </tr>\n",
       "    <tr>\n",
       "      <th>9</th>\n",
       "      <td>sub-MSC10</td>\n",
       "      <td>M</td>\n",
       "      <td>31</td>\n",
       "      <td>Professional</td>\n",
       "      <td>19.0</td>\n",
       "    </tr>\n",
       "  </tbody>\n",
       "</table>\n",
       "</div>"
      ],
      "text/plain": [
       "  participant_id gender  age education_degree  education_years\n",
       "0      sub-MSC01      M   34        Doctorate             22.0\n",
       "1      sub-MSC02      M   34        Doctorate             28.0\n",
       "2      sub-MSC03      F   29          Masters             18.0\n",
       "3      sub-MSC04      F   28        Bachelors             22.0\n",
       "4      sub-MSC05      M   27        Bachelors             20.0\n",
       "5      sub-MSC06      F   24        Bachelors             17.5\n",
       "6      sub-MSC07      F   31          Masters             20.0\n",
       "7      sub-MSC08      F   27     Professional             21.0\n",
       "8      sub-MSC09      M   26     Professional             19.0\n",
       "9      sub-MSC10      M   31     Professional             19.0"
      ]
     },
     "execution_count": 141,
     "metadata": {},
     "output_type": "execute_result"
    }
   ],
   "source": [
    "# Question 5 \n",
    "layout = BIDSLayout('/mnt/d/brainhack/ds000224')\n",
    "participants = layout.get(suffix='participants', extension='tsv')[0]\n",
    "participants.get_df()"
   ]
  },
  {
   "cell_type": "markdown",
   "id": "94044a62",
   "metadata": {},
   "source": []
  },
  {
   "cell_type": "markdown",
   "id": "b06900b8",
   "metadata": {},
   "source": []
  },
  {
   "cell_type": "code",
   "execution_count": 109,
   "id": "533dfb0a",
   "metadata": {},
   "outputs": [],
   "source": [
    "from bids.reports import BIDSReport"
   ]
  },
  {
   "cell_type": "code",
   "execution_count": null,
   "id": "8e74929c",
   "metadata": {},
   "outputs": [],
   "source": []
  }
 ],
 "metadata": {
  "kernelspec": {
   "display_name": "Python 3 (ipykernel)",
   "language": "python",
   "name": "python3"
  },
  "language_info": {
   "codemirror_mode": {
    "name": "ipython",
    "version": 3
   },
   "file_extension": ".py",
   "mimetype": "text/x-python",
   "name": "python",
   "nbconvert_exporter": "python",
   "pygments_lexer": "ipython3",
   "version": "3.7.15"
  }
 },
 "nbformat": 4,
 "nbformat_minor": 5
}
