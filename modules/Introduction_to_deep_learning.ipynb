{
 "cells": [
  {
   "cell_type": "markdown",
   "id": "fadd7f89",
   "metadata": {},
   "source": [
    "# Introduction to deep learning\n",
    "1. ***Example of a research question that you could use deep learning to solve:***\n",
    "The problem of localization and segmentation of new lesions of some brain pathology, then when monitoring the disease, these lesions need an evaluation of the volume, shape and quantity. \n",
    "\n",
    "2. ***How would deep learning provide an advantage for solving the problem?***\n",
    "Deep learning is advantageous because it could automate the task of lesion tracking, which is a time-consuming task that is linked to inter-expert bias, a deep learning algorithm could solve this bias.\n",
    "\n",
    "3. ***Example of a research question for which deep learning would not be appropriate.***\n",
    "Deep learning manages to solve precise tasks, which were trained for specific solutions, it could not solve complex problems such as ethical and moral problems, because ethical problems often involve complex subjective and contextual considerations, deep learning could provide suggestions but could not fully address ethical dilemmas and make decisions. \n",
    "\n",
    "4. ***What would be a disadvantage of deep learning compared to another method?***\n",
    "A disadvantage of deep learning is the need for significant amounts of importat data to generate models, but unlike other algorithms that do not rely on learning, they can be created and run without the need for a databases. \n",
    "Difficulty in parameterizing networks and understanding what is happening between layers"
   ]
  },
  {
   "cell_type": "code",
   "execution_count": null,
   "id": "bf542d07",
   "metadata": {},
   "outputs": [],
   "source": []
  }
 ],
 "metadata": {
  "kernelspec": {
   "display_name": "Python 3 (ipykernel)",
   "language": "python",
   "name": "python3"
  },
  "language_info": {
   "codemirror_mode": {
    "name": "ipython",
    "version": 3
   },
   "file_extension": ".py",
   "mimetype": "text/x-python",
   "name": "python",
   "nbconvert_exporter": "python",
   "pygments_lexer": "ipython3",
   "version": "3.7.15"
  }
 },
 "nbformat": 4,
 "nbformat_minor": 5
}
